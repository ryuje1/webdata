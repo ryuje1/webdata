{
 "cells": [
  {
   "cell_type": "code",
   "execution_count": 88,
   "id": "d8def0ce",
   "metadata": {},
   "outputs": [
    {
     "name": "stderr",
     "output_type": "stream",
     "text": [
      "c:\\python3\\Lib\\site-packages\\openpyxl\\styles\\stylesheet.py:237: UserWarning: Workbook contains no default style, apply openpyxl's default\n",
      "  warn(\"Workbook contains no default style, apply openpyxl's default\")\n",
      "c:\\python3\\Lib\\site-packages\\openpyxl\\styles\\stylesheet.py:237: UserWarning: Workbook contains no default style, apply openpyxl's default\n",
      "  warn(\"Workbook contains no default style, apply openpyxl's default\")\n",
      "c:\\python3\\Lib\\site-packages\\openpyxl\\styles\\stylesheet.py:237: UserWarning: Workbook contains no default style, apply openpyxl's default\n",
      "  warn(\"Workbook contains no default style, apply openpyxl's default\")\n"
     ]
    },
    {
     "data": {
      "text/html": [
       "<div>\n",
       "<style scoped>\n",
       "    .dataframe tbody tr th:only-of-type {\n",
       "        vertical-align: middle;\n",
       "    }\n",
       "\n",
       "    .dataframe tbody tr th {\n",
       "        vertical-align: top;\n",
       "    }\n",
       "\n",
       "    .dataframe thead th {\n",
       "        text-align: right;\n",
       "    }\n",
       "</style>\n",
       "<table border=\"1\" class=\"dataframe\">\n",
       "  <thead>\n",
       "    <tr style=\"text-align: right;\">\n",
       "      <th></th>\n",
       "      <th>0~9세.2</th>\n",
       "      <th>10~19세.2</th>\n",
       "      <th>20~29세.2</th>\n",
       "      <th>30~39세.2</th>\n",
       "      <th>40~49세.2</th>\n",
       "      <th>50~59세.2</th>\n",
       "      <th>60~69세.2</th>\n",
       "      <th>70~79세.2</th>\n",
       "      <th>80~89세.2</th>\n",
       "      <th>90~99세.2</th>\n",
       "      <th>100세 이상.2</th>\n",
       "    </tr>\n",
       "    <tr>\n",
       "      <th>행정기관</th>\n",
       "      <th></th>\n",
       "      <th></th>\n",
       "      <th></th>\n",
       "      <th></th>\n",
       "      <th></th>\n",
       "      <th></th>\n",
       "      <th></th>\n",
       "      <th></th>\n",
       "      <th></th>\n",
       "      <th></th>\n",
       "      <th></th>\n",
       "    </tr>\n",
       "  </thead>\n",
       "  <tbody>\n",
       "    <tr>\n",
       "      <th>전국</th>\n",
       "      <td>1,531,058</td>\n",
       "      <td>2,245,507</td>\n",
       "      <td>2,855,132</td>\n",
       "      <td>3,166,585</td>\n",
       "      <td>3,796,703</td>\n",
       "      <td>4,315,099</td>\n",
       "      <td>3,968,224</td>\n",
       "      <td>2,254,795</td>\n",
       "      <td>1,326,374</td>\n",
       "      <td>252,368</td>\n",
       "      <td>7,052</td>\n",
       "    </tr>\n",
       "  </tbody>\n",
       "</table>\n",
       "</div>"
      ],
      "text/plain": [
       "         0~9세.2   10~19세.2   20~29세.2   30~39세.2   40~49세.2   50~59세.2  \\\n",
       "행정기관                                                                     \n",
       "전국    1,531,058  2,245,507  2,855,132  3,166,585  3,796,703  4,315,099   \n",
       "\n",
       "       60~69세.2   70~79세.2   80~89세.2 90~99세.2 100세 이상.2  \n",
       "행정기관                                                      \n",
       "전국    3,968,224  2,254,795  1,326,374  252,368     7,052  "
      ]
     },
     "execution_count": 88,
     "metadata": {},
     "output_type": "execute_result"
    }
   ],
   "source": [
    "### 파일 불러오기\n",
    "import pandas as pd\n",
    "\n",
    "## 계\n",
    "df = pd.read_excel('data/202412_202412_연령별인구현황_연간.xlsx', skiprows=3,\n",
    "                   usecols='B, E:O', index_col='행정기관', nrows=1)\n",
    "df\n",
    "\n",
    "## 남자\n",
    "m_df = pd.read_excel('data/202412_202412_연령별인구현황_연간.xlsx', skiprows=3,\n",
    "                   usecols='B, R:AB', index_col='행정기관', nrows=1)\n",
    "m_df\n",
    "\n",
    "## 여자\n",
    "w_df = pd.read_excel('data/202412_202412_연령별인구현황_연간.xlsx', skiprows=3,\n",
    "                   usecols='B, AE:AO', index_col='행정기관', nrows=1)\n",
    "w_df"
   ]
  },
  {
   "cell_type": "code",
   "execution_count": 89,
   "id": "40be8017",
   "metadata": {},
   "outputs": [
    {
     "data": {
      "text/plain": [
       "Index(['0~9세', '10~19세', '20~29세', '30~39세', '40~49세', '50~59세', '60~69세',\n",
       "       '70~79세', '80~89세', '90~99세', '100세 이상'],\n",
       "      dtype='object')"
      ]
     },
     "execution_count": 89,
     "metadata": {},
     "output_type": "execute_result"
    }
   ],
   "source": [
    "### 컬럼명 비교\n",
    "df.columns        # '0~9세'\n",
    "m_df.columns      # '0~9세.1'\n",
    "w_df.columns      # '0~9세.2'\n",
    "\n",
    "### 컬럼명으로 컬럼 출력\n",
    "df['0~9세']\n",
    "# m_df['0~9세.1']\n",
    "# w_df['0~9세.2']\n",
    "\n",
    "### 컬럼명 변경\n",
    "df.columns\n",
    "m_df.columns = df.columns   # 컬럼명 변경\n",
    "m_df.columns\n",
    "w_df.columns = df.columns   # 컬럼명 변경\n",
    "w_df.columns"
   ]
  },
  {
   "cell_type": "code",
   "execution_count": 90,
   "id": "3be0a9eb",
   "metadata": {},
   "outputs": [
    {
     "data": {
      "text/plain": [
       "행정기관\n",
       "전국      1,531,058\n",
       "Name: 0~9세, dtype: object"
      ]
     },
     "execution_count": 90,
     "metadata": {},
     "output_type": "execute_result"
    }
   ],
   "source": [
    "df['0~9세']\n",
    "m_df['0~9세']\n",
    "w_df['0~9세']"
   ]
  },
  {
   "cell_type": "markdown",
   "id": "b625b58b",
   "metadata": {},
   "source": [
    "replace ,를 삭제(천단위 삭제), 타입변경 : astype(int), astype(float)"
   ]
  },
  {
   "cell_type": "code",
   "execution_count": 91,
   "id": "067efd6c",
   "metadata": {},
   "outputs": [
    {
     "data": {
      "text/plain": [
       "행정기관\n",
       "전국      3140118\n",
       "Name: 0~9세, dtype: int64"
      ]
     },
     "execution_count": 91,
     "metadata": {},
     "output_type": "execute_result"
    }
   ],
   "source": [
    "# df.describe()\n",
    "# df.info()\n",
    "# df['0~9세'] = df['0~9세'].str.replace(\",\", \"\")      # replace = 바로 반영X 변수에 다시 넣어줘야 반영됨\n",
    "# df['0~9세']\n",
    "# df['0~9세'] = df['0~9세'].astype(int)               # 타입변경 = 바로 반영X 변수에 다시 넣어줘야 반영됨\n",
    "# df.info()\n",
    "df['0~9세'] = df['0~9세'].str.replace(\",\", \"\").astype(int)      # 천단위 삭제, 타입변경 한번에\n",
    "df['0~9세']"
   ]
  },
  {
   "cell_type": "code",
   "execution_count": 92,
   "id": "d7c0ce0a",
   "metadata": {},
   "outputs": [
    {
     "name": "stdout",
     "output_type": "stream",
     "text": [
      "<class 'pandas.core.frame.DataFrame'>\n",
      "Index: 1 entries, 전국   to 전국  \n",
      "Data columns (total 11 columns):\n",
      " #   Column   Non-Null Count  Dtype \n",
      "---  ------   --------------  ----- \n",
      " 0   0~9세     1 non-null      int64 \n",
      " 1   10~19세   1 non-null      int64 \n",
      " 2   20~29세   1 non-null      object\n",
      " 3   30~39세   1 non-null      object\n",
      " 4   40~49세   1 non-null      object\n",
      " 5   50~59세   1 non-null      object\n",
      " 6   60~69세   1 non-null      object\n",
      " 7   70~79세   1 non-null      object\n",
      " 8   80~89세   1 non-null      object\n",
      " 9   90~99세   1 non-null      object\n",
      " 10  100세 이상  1 non-null      object\n",
      "dtypes: int64(2), object(9)\n",
      "memory usage: 204.0+ bytes\n"
     ]
    }
   ],
   "source": [
    "df.columns\n",
    "\n",
    "# '10-19세' 천단위 삭제, int 변경\n",
    "df['10~19세'] = df['10~19세'].str.replace(\",\", \"\").astype(int)\n",
    "df['10~19세']\n",
    "df.info()"
   ]
  },
  {
   "cell_type": "code",
   "execution_count": 93,
   "id": "5beb6c43",
   "metadata": {},
   "outputs": [
    {
     "data": {
      "text/html": [
       "<div>\n",
       "<style scoped>\n",
       "    .dataframe tbody tr th:only-of-type {\n",
       "        vertical-align: middle;\n",
       "    }\n",
       "\n",
       "    .dataframe tbody tr th {\n",
       "        vertical-align: top;\n",
       "    }\n",
       "\n",
       "    .dataframe thead th {\n",
       "        text-align: right;\n",
       "    }\n",
       "</style>\n",
       "<table border=\"1\" class=\"dataframe\">\n",
       "  <thead>\n",
       "    <tr style=\"text-align: right;\">\n",
       "      <th></th>\n",
       "      <th>0~9세</th>\n",
       "      <th>10~19세</th>\n",
       "      <th>20~29세</th>\n",
       "      <th>30~39세</th>\n",
       "      <th>40~49세</th>\n",
       "      <th>50~59세</th>\n",
       "      <th>60~69세</th>\n",
       "      <th>70~79세</th>\n",
       "      <th>80~89세</th>\n",
       "      <th>90~99세</th>\n",
       "      <th>100세 이상</th>\n",
       "    </tr>\n",
       "    <tr>\n",
       "      <th>행정기관</th>\n",
       "      <th></th>\n",
       "      <th></th>\n",
       "      <th></th>\n",
       "      <th></th>\n",
       "      <th></th>\n",
       "      <th></th>\n",
       "      <th></th>\n",
       "      <th></th>\n",
       "      <th></th>\n",
       "      <th></th>\n",
       "      <th></th>\n",
       "    </tr>\n",
       "  </thead>\n",
       "  <tbody>\n",
       "    <tr>\n",
       "      <th>전국</th>\n",
       "      <td>1,609,060</td>\n",
       "      <td>2,373,758</td>\n",
       "      <td>3,100,524</td>\n",
       "      <td>3,457,978</td>\n",
       "      <td>3,926,120</td>\n",
       "      <td>4,391,271</td>\n",
       "      <td>3,850,559</td>\n",
       "      <td>1,931,802</td>\n",
       "      <td>778,170</td>\n",
       "      <td>77,557</td>\n",
       "      <td>1,525</td>\n",
       "    </tr>\n",
       "  </tbody>\n",
       "</table>\n",
       "</div>"
      ],
      "text/plain": [
       "           0~9세     10~19세     20~29세     30~39세     40~49세     50~59세  \\\n",
       "행정기관                                                                     \n",
       "전국    1,609,060  2,373,758  3,100,524  3,457,978  3,926,120  4,391,271   \n",
       "\n",
       "         60~69세     70~79세   80~89세  90~99세 100세 이상  \n",
       "행정기관                                                 \n",
       "전국    3,850,559  1,931,802  778,170  77,557   1,525  "
      ]
     },
     "execution_count": 93,
     "metadata": {},
     "output_type": "execute_result"
    }
   ],
   "source": [
    "m_df"
   ]
  },
  {
   "cell_type": "code",
   "execution_count": 94,
   "id": "3ae30ee3",
   "metadata": {},
   "outputs": [],
   "source": [
    "### m_df 천단위 삭제, int 타입변경\n",
    "# m_df.info()\n",
    "m_df = m_df.T   # 축 변경"
   ]
  },
  {
   "cell_type": "code",
   "execution_count": 95,
   "id": "fb5c09aa",
   "metadata": {},
   "outputs": [
    {
     "data": {
      "text/html": [
       "<div>\n",
       "<style scoped>\n",
       "    .dataframe tbody tr th:only-of-type {\n",
       "        vertical-align: middle;\n",
       "    }\n",
       "\n",
       "    .dataframe tbody tr th {\n",
       "        vertical-align: top;\n",
       "    }\n",
       "\n",
       "    .dataframe thead th {\n",
       "        text-align: right;\n",
       "    }\n",
       "</style>\n",
       "<table border=\"1\" class=\"dataframe\">\n",
       "  <thead>\n",
       "    <tr style=\"text-align: right;\">\n",
       "      <th>행정기관</th>\n",
       "      <th>전국</th>\n",
       "    </tr>\n",
       "  </thead>\n",
       "  <tbody>\n",
       "    <tr>\n",
       "      <th>0~9세</th>\n",
       "      <td>1,609,060</td>\n",
       "    </tr>\n",
       "    <tr>\n",
       "      <th>10~19세</th>\n",
       "      <td>2,373,758</td>\n",
       "    </tr>\n",
       "  </tbody>\n",
       "</table>\n",
       "</div>"
      ],
      "text/plain": [
       "행정기관         전국  \n",
       "0~9세    1,609,060\n",
       "10~19세  2,373,758"
      ]
     },
     "execution_count": 95,
     "metadata": {},
     "output_type": "execute_result"
    }
   ],
   "source": [
    "m_df.head(2)"
   ]
  },
  {
   "cell_type": "code",
   "execution_count": 96,
   "id": "9240f624",
   "metadata": {},
   "outputs": [],
   "source": [
    "# 함수를 사용해서 전체 천단위 삭제 가능\n",
    "# m_df.iloc[0].str.replace(\",\", \"\").astype(int)"
   ]
  },
  {
   "cell_type": "code",
   "execution_count": null,
   "id": "744f3f14",
   "metadata": {},
   "outputs": [
    {
     "data": {
      "text/plain": [
       "Index(['전국'], dtype='object', name='행정기관')"
      ]
     },
     "execution_count": 99,
     "metadata": {},
     "output_type": "execute_result"
    }
   ],
   "source": [
    "### 축이 변경됨\n",
    "### 컬럼 별로 한번에 변경 가능 - replace, astype 컬럼 전체 적용시킴\n",
    "# m_df['전국']\n",
    "\n",
    "# m_df.columns\n",
    "# m_df['전국  '] = m_df['전국  '].str.replace(\",\", \"\").astype(int)\n",
    "# m_df\n",
    "\n",
    "### 컬럼명 1개 변경\n",
    "m_df.rename(columns={\"전국  \":\"전국\"}, inplace=True)\n",
    "m_df.columns"
   ]
  }
 ],
 "metadata": {
  "kernelspec": {
   "display_name": "Python 3",
   "language": "python",
   "name": "python3"
  },
  "language_info": {
   "codemirror_mode": {
    "name": "ipython",
    "version": 3
   },
   "file_extension": ".py",
   "mimetype": "text/x-python",
   "name": "python",
   "nbconvert_exporter": "python",
   "pygments_lexer": "ipython3",
   "version": "3.13.2"
  }
 },
 "nbformat": 4,
 "nbformat_minor": 5
}
