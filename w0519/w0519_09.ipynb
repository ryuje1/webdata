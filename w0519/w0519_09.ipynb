{
 "cells": [
  {
   "cell_type": "code",
   "execution_count": 36,
   "id": "a314c1fa",
   "metadata": {},
   "outputs": [
    {
     "name": "stderr",
     "output_type": "stream",
     "text": [
      "c:\\python3\\Lib\\site-packages\\openpyxl\\styles\\stylesheet.py:237: UserWarning: Workbook contains no default style, apply openpyxl's default\n",
      "  warn(\"Workbook contains no default style, apply openpyxl's default\")\n"
     ]
    },
    {
     "data": {
      "text/plain": [
       "2015    438420\n",
       "2016    406243\n",
       "2017    357771\n",
       "2018    326822\n",
       "2019    302676\n",
       "2020    272337\n",
       "2021    260562\n",
       "2022    249186\n",
       "2023    230028\n",
       "2024    230028\n",
       "Name: 총합, dtype: object"
      ]
     },
     "execution_count": 36,
     "metadata": {},
     "output_type": "execute_result"
    }
   ],
   "source": [
    "import pandas as pd\n",
    "\n",
    "df = pd.read_excel('data/F000801_20250519143453016_excel.xlsx', skiprows=2, nrows=1, usecols='B:L')\n",
    "df.set_index(\"Unnamed: 1\", inplace=True)\n",
    "df.index = ['총합']\n",
    "df.index.name = \"전체\"\n",
    "\n",
    "df.loc['총합'] = df.loc['총합'].str.replace(\",\", \"\").astype(int)\n",
    "df.loc['총합']\n",
    "# df.rename(columns={'Unnamed: 0':'통합'}, inplace=True)\n",
    "# df.set_index('통합', inplace=True)\n",
    "# df = df.T\n",
    "# df['전체'] = df['전체'].str.replace(\",\", \"\").astype(int)\n",
    "# df['전체']"
   ]
  },
  {
   "cell_type": "code",
   "execution_count": 49,
   "id": "092a4028",
   "metadata": {},
   "outputs": [
    {
     "data": {
      "text/html": [
       "<div>\n",
       "<style scoped>\n",
       "    .dataframe tbody tr th:only-of-type {\n",
       "        vertical-align: middle;\n",
       "    }\n",
       "\n",
       "    .dataframe tbody tr th {\n",
       "        vertical-align: top;\n",
       "    }\n",
       "\n",
       "    .dataframe thead th {\n",
       "        text-align: right;\n",
       "    }\n",
       "</style>\n",
       "<table border=\"1\" class=\"dataframe\">\n",
       "  <thead>\n",
       "    <tr style=\"text-align: right;\">\n",
       "      <th>전체</th>\n",
       "      <th>총합</th>\n",
       "    </tr>\n",
       "  </thead>\n",
       "  <tbody>\n",
       "    <tr>\n",
       "      <th>count</th>\n",
       "      <td>10.000000</td>\n",
       "    </tr>\n",
       "    <tr>\n",
       "      <th>mean</th>\n",
       "      <td>307407.300000</td>\n",
       "    </tr>\n",
       "    <tr>\n",
       "      <th>std</th>\n",
       "      <td>73528.438334</td>\n",
       "    </tr>\n",
       "    <tr>\n",
       "      <th>min</th>\n",
       "      <td>230028.000000</td>\n",
       "    </tr>\n",
       "    <tr>\n",
       "      <th>25%</th>\n",
       "      <td>252030.000000</td>\n",
       "    </tr>\n",
       "    <tr>\n",
       "      <th>50%</th>\n",
       "      <td>287506.500000</td>\n",
       "    </tr>\n",
       "    <tr>\n",
       "      <th>75%</th>\n",
       "      <td>350033.750000</td>\n",
       "    </tr>\n",
       "    <tr>\n",
       "      <th>max</th>\n",
       "      <td>438420.000000</td>\n",
       "    </tr>\n",
       "  </tbody>\n",
       "</table>\n",
       "</div>"
      ],
      "text/plain": [
       "전체                총합\n",
       "count      10.000000\n",
       "mean   307407.300000\n",
       "std     73528.438334\n",
       "min    230028.000000\n",
       "25%    252030.000000\n",
       "50%    287506.500000\n",
       "75%    350033.750000\n",
       "max    438420.000000"
      ]
     },
     "execution_count": 49,
     "metadata": {},
     "output_type": "execute_result"
    }
   ],
   "source": [
    "# 총합에 대한 평균, 최대값, 최소값\n",
    "# df = df.T\n",
    "df = df.astype(int)\n",
    "df.describe()"
   ]
  }
 ],
 "metadata": {
  "kernelspec": {
   "display_name": "Python 3",
   "language": "python",
   "name": "python3"
  },
  "language_info": {
   "codemirror_mode": {
    "name": "ipython",
    "version": 3
   },
   "file_extension": ".py",
   "mimetype": "text/x-python",
   "name": "python",
   "nbconvert_exporter": "python",
   "pygments_lexer": "ipython3",
   "version": "3.13.2"
  }
 },
 "nbformat": 4,
 "nbformat_minor": 5
}
