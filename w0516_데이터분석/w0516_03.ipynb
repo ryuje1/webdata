{
 "cells": [
  {
   "cell_type": "markdown",
   "id": "e4eab2a1",
   "metadata": {},
   "source": [
    "## pandas 명령어"
   ]
  },
  {
   "cell_type": "markdown",
   "id": "8b5e14fc",
   "metadata": {},
   "source": [
    "### Series 1차원 데이터\n",
    "- 리스트 형태, 데이터 처리를 쉽게 할 수 있도록 하는 라이브러리"
   ]
  },
  {
   "cell_type": "code",
   "execution_count": 12,
   "id": "4759f9c0",
   "metadata": {},
   "outputs": [
    {
     "name": "stdout",
     "output_type": "stream",
     "text": [
      "10\n"
     ]
    },
    {
     "data": {
      "text/plain": [
       "0   -20\n",
       "1   -10\n",
       "2    10\n",
       "3    20\n",
       "dtype: int64"
      ]
     },
     "execution_count": 12,
     "metadata": {},
     "output_type": "execute_result"
    }
   ],
   "source": [
    "import pandas as pd\n",
    "\n",
    "# 1차원 데이터\n",
    "a_list = [-20, -10, 10, 20]\n",
    "temp = pd.Series(a_list)        # 리스트 타입 -> 1차원 Series 타입 변환\n",
    "temp[0]\n",
    "print(temp[2])\n",
    "temp"
   ]
  },
  {
   "cell_type": "code",
   "execution_count": 9,
   "id": "2c5dc906",
   "metadata": {},
   "outputs": [
    {
     "name": "stdout",
     "output_type": "stream",
     "text": [
      "-20\n"
     ]
    }
   ],
   "source": [
    "# a_list[0]\n",
    "temp[0]\n",
    "print(temp[0])"
   ]
  },
  {
   "cell_type": "code",
   "execution_count": 16,
   "id": "460bf03d",
   "metadata": {},
   "outputs": [
    {
     "name": "stdout",
     "output_type": "stream",
     "text": [
      "-20\n",
      "20\n"
     ]
    }
   ],
   "source": [
    "### Series index 지정하는 방법\n",
    "temp = pd.Series(a_list, index=['1월', '2월', '3월', '4월'])\n",
    "temp\n",
    "print(temp['1월'])\n",
    "print(temp['4월'])"
   ]
  },
  {
   "cell_type": "code",
   "execution_count": 18,
   "id": "bcb8e776",
   "metadata": {},
   "outputs": [
    {
     "data": {
      "text/plain": [
       "1월   -20\n",
       "2월   -10\n",
       "3월    10\n",
       "4월    20\n",
       "dtype: int64"
      ]
     },
     "execution_count": 18,
     "metadata": {},
     "output_type": "execute_result"
    }
   ],
   "source": [
    "## index 개수가 틀리면 에러\n",
    "# temp = pd.Series(a_list, index=['1월', '2월', '3월', '4월', '5월'])\n",
    "temp = pd.Series(a_list, index=['1월', '2월', '3월', '4월'])\n",
    "temp"
   ]
  },
  {
   "cell_type": "markdown",
   "id": "5ee7317e",
   "metadata": {},
   "source": [
    "### DataFrame : 2차원 데이터"
   ]
  },
  {
   "cell_type": "code",
   "execution_count": 24,
   "id": "2af694bb",
   "metadata": {},
   "outputs": [
    {
     "data": {
      "text/plain": [
       "{'번호': ['1번', '2번', '3번', '4번', '5번'],\n",
       " '이름': ['홍길동', '유관순', '이순신', '강감찬', '김구'],\n",
       " '합계': [300, 299, 250, 270, 297]}"
      ]
     },
     "execution_count": 24,
     "metadata": {},
     "output_type": "execute_result"
    }
   ],
   "source": [
    "## dict타입 형태\n",
    "data = {'번호':['1번', '2번', '3번', '4번', '5번'],\n",
    "        '이름':['홍길동', '유관순', '이순신', '강감찬', '김구'],\n",
    "        '합계':[300, 299, 250, 270, 297]}\n",
    "data"
   ]
  },
  {
   "cell_type": "code",
   "execution_count": 22,
   "id": "9ff3d3aa",
   "metadata": {},
   "outputs": [
    {
     "data": {
      "text/plain": [
       "[300, 299, 250, 270, 297]"
      ]
     },
     "execution_count": 22,
     "metadata": {},
     "output_type": "execute_result"
    }
   ],
   "source": [
    "## 딕셔너리 타입 구현\n",
    "data['이름']\n",
    "data['합계']"
   ]
  },
  {
   "cell_type": "code",
   "execution_count": 31,
   "id": "0129dce2",
   "metadata": {},
   "outputs": [
    {
     "data": {
      "text/html": [
       "<div>\n",
       "<style scoped>\n",
       "    .dataframe tbody tr th:only-of-type {\n",
       "        vertical-align: middle;\n",
       "    }\n",
       "\n",
       "    .dataframe tbody tr th {\n",
       "        vertical-align: top;\n",
       "    }\n",
       "\n",
       "    .dataframe thead th {\n",
       "        text-align: right;\n",
       "    }\n",
       "</style>\n",
       "<table border=\"1\" class=\"dataframe\">\n",
       "  <thead>\n",
       "    <tr style=\"text-align: right;\">\n",
       "      <th></th>\n",
       "      <th>번호</th>\n",
       "      <th>이름</th>\n",
       "      <th>합계</th>\n",
       "    </tr>\n",
       "  </thead>\n",
       "  <tbody>\n",
       "    <tr>\n",
       "      <th>0</th>\n",
       "      <td>1번</td>\n",
       "      <td>홍길동</td>\n",
       "      <td>300</td>\n",
       "    </tr>\n",
       "    <tr>\n",
       "      <th>1</th>\n",
       "      <td>2번</td>\n",
       "      <td>유관순</td>\n",
       "      <td>299</td>\n",
       "    </tr>\n",
       "    <tr>\n",
       "      <th>2</th>\n",
       "      <td>3번</td>\n",
       "      <td>이순신</td>\n",
       "      <td>250</td>\n",
       "    </tr>\n",
       "    <tr>\n",
       "      <th>3</th>\n",
       "      <td>4번</td>\n",
       "      <td>강감찬</td>\n",
       "      <td>270</td>\n",
       "    </tr>\n",
       "    <tr>\n",
       "      <th>4</th>\n",
       "      <td>5번</td>\n",
       "      <td>김구</td>\n",
       "      <td>297</td>\n",
       "    </tr>\n",
       "  </tbody>\n",
       "</table>\n",
       "</div>"
      ],
      "text/plain": [
       "   번호   이름   합계\n",
       "0  1번  홍길동  300\n",
       "1  2번  유관순  299\n",
       "2  3번  이순신  250\n",
       "3  4번  강감찬  270\n",
       "4  5번   김구  297"
      ]
     },
     "execution_count": 31,
     "metadata": {},
     "output_type": "execute_result"
    }
   ],
   "source": [
    "## 딕셔너리 -> 데이터프레임 변경\n",
    "df = pd.DataFrame(data)\n",
    "df"
   ]
  },
  {
   "cell_type": "code",
   "execution_count": 32,
   "id": "6a6fe363",
   "metadata": {},
   "outputs": [
    {
     "data": {
      "text/plain": [
       "0    1번\n",
       "1    2번\n",
       "2    3번\n",
       "3    4번\n",
       "4    5번\n",
       "Name: 번호, dtype: object"
      ]
     },
     "execution_count": 32,
     "metadata": {},
     "output_type": "execute_result"
    }
   ],
   "source": [
    "# 인덱스와 함께 출력\n",
    "df['이름']\n",
    "df['합계']\n",
    "df['번호']"
   ]
  },
  {
   "cell_type": "code",
   "execution_count": null,
   "id": "77851cc3",
   "metadata": {},
   "outputs": [
    {
     "data": {
      "text/html": [
       "<div>\n",
       "<style scoped>\n",
       "    .dataframe tbody tr th:only-of-type {\n",
       "        vertical-align: middle;\n",
       "    }\n",
       "\n",
       "    .dataframe tbody tr th {\n",
       "        vertical-align: top;\n",
       "    }\n",
       "\n",
       "    .dataframe thead th {\n",
       "        text-align: right;\n",
       "    }\n",
       "</style>\n",
       "<table border=\"1\" class=\"dataframe\">\n",
       "  <thead>\n",
       "    <tr style=\"text-align: right;\">\n",
       "      <th></th>\n",
       "      <th>번호</th>\n",
       "      <th>합계</th>\n",
       "    </tr>\n",
       "  </thead>\n",
       "  <tbody>\n",
       "    <tr>\n",
       "      <th>0</th>\n",
       "      <td>1번</td>\n",
       "      <td>300</td>\n",
       "    </tr>\n",
       "    <tr>\n",
       "      <th>1</th>\n",
       "      <td>2번</td>\n",
       "      <td>299</td>\n",
       "    </tr>\n",
       "    <tr>\n",
       "      <th>2</th>\n",
       "      <td>3번</td>\n",
       "      <td>250</td>\n",
       "    </tr>\n",
       "    <tr>\n",
       "      <th>3</th>\n",
       "      <td>4번</td>\n",
       "      <td>270</td>\n",
       "    </tr>\n",
       "    <tr>\n",
       "      <th>4</th>\n",
       "      <td>5번</td>\n",
       "      <td>297</td>\n",
       "    </tr>\n",
       "  </tbody>\n",
       "</table>\n",
       "</div>"
      ],
      "text/plain": [
       "   번호   합계\n",
       "0  1번  300\n",
       "1  2번  299\n",
       "2  3번  250\n",
       "3  4번  270\n",
       "4  5번  297"
      ]
     },
     "execution_count": 34,
     "metadata": {},
     "output_type": "execute_result"
    }
   ],
   "source": [
    "## 2가지 이상 출력하려면 []를 2번 사용([[ ]]) 해서 출력해야 함.\n",
    "df[['번호','이름']]\n",
    "df[['번호','합계']]"
   ]
  }
 ],
 "metadata": {
  "kernelspec": {
   "display_name": "Python 3",
   "language": "python",
   "name": "python3"
  },
  "language_info": {
   "codemirror_mode": {
    "name": "ipython",
    "version": 3
   },
   "file_extension": ".py",
   "mimetype": "text/x-python",
   "name": "python",
   "nbconvert_exporter": "python",
   "pygments_lexer": "ipython3",
   "version": "3.13.2"
  }
 },
 "nbformat": 4,
 "nbformat_minor": 5
}
