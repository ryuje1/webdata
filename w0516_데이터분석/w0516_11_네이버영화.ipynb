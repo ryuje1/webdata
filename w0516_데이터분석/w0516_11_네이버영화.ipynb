{
 "cells": [
  {
   "cell_type": "markdown",
   "id": "28bc3948",
   "metadata": {},
   "source": [
    "제목 개봉일 평점<br>\n",
    "웹스크래핑\n",
    "<br>\n",
    "\n",
    "평점에 대한 평균과 합계<br>\n",
    "최대값, 최소값 출력하시오 (DataFrame 사용해서 적용)"
   ]
  },
  {
   "cell_type": "code",
   "execution_count": 66,
   "id": "7e1f780d",
   "metadata": {},
   "outputs": [],
   "source": [
    "import requests\n",
    "from bs4 import BeautifulSoup\n",
    "from selenium import webdriver\n",
    "from selenium.webdriver.common.keys import Keys\n",
    "from selenium.webdriver.common.by import By\n",
    "from selenium.webdriver.chrome.service import Service\n",
    "from selenium.webdriver.chrome.options import Options\n",
    "from selenium.webdriver.support.ui import WebDriverWait\n",
    "from selenium.webdriver.support import expected_conditions as EC\n",
    "import csv\n",
    "import time\n",
    "import random\n",
    "from datetime import datetime\n",
    "\n",
    "# 크롬 옵션 설정 - 셀레니움 접근 제한 : 보안접근 해제\n",
    "options = Options()\n",
    "options.add_argument(\"--disable-blink-features=AutomationControlled\")  # 자동화 티 안 나게\n",
    "options.add_argument(\"start-maximized\")\n",
    "options.add_argument(\"user-agent=Mozilla/5.0 (Windows NT 10.0; Win64; x64) AppleWebKit/537.36 (KHTML, like Gecko) Chrome/123.0.0.0 Safari/537.36\")\n",
    "options.add_experimental_option(\"excludeSwitches\", [\"enable-automation\"])\n",
    "options.add_experimental_option('useAutomationExtension', False)\n",
    "\n",
    "# 브라우저 실행\n",
    "browser = webdriver.Chrome(options=options)     # 설정했던 옵션들을 가지고 크롬 브라우저 실행\n",
    "browser.maximize_window()                       # 창 최대화"
   ]
  },
  {
   "cell_type": "code",
   "execution_count": 67,
   "id": "68adcdb9",
   "metadata": {},
   "outputs": [],
   "source": [
    "url = 'https://search.naver.com/search.naver?where=nexearch&sm=tab_etc&qvt=0&query=%EC%9B%94%EB%B3%84%EA%B0%9C%EB%B4%89%EC%98%81%ED%99%94'\n",
    "browser.get(url)\n",
    "time.sleep(2)\n",
    "\n",
    "elem = browser.find_element(By.XPATH, '//*[@id=\"main_pack\"]/div[3]/div[2]/div/div/div/div[1]/div[3]/div/div/ul[2]/li[1]/a').click()\n",
    "time.sleep(1)"
   ]
  },
  {
   "cell_type": "code",
   "execution_count": 68,
   "id": "04030e51",
   "metadata": {},
   "outputs": [],
   "source": [
    "soup = BeautifulSoup(browser.page_source, 'lxml')"
   ]
  },
  {
   "cell_type": "code",
   "execution_count": 69,
   "id": "da1ce1f7",
   "metadata": {},
   "outputs": [
    {
     "name": "stdout",
     "output_type": "stream",
     "text": [
      "더 퍼스트 슬램덩크\n",
      "2025.01.04\n",
      "9.25\n",
      "해리 포터와 죽음의 성물 2\n",
      "2025.01.15\n",
      "9.17\n",
      "검은 수녀들\n",
      "2025.01.24\n",
      "6.44\n",
      "히트맨2\n",
      "2025.01.22\n",
      "7.44\n",
      "러브레터\n",
      "2025.01.01\n",
      "9.32\n",
      "마당을 나온 암탉\n",
      "2025.01.22\n",
      "8.67\n",
      "색, 계\n",
      "2025.01.01\n",
      "8.98\n",
      "말할 수 없는 비밀\n",
      "2025.01.27\n",
      "8.62\n",
      "저장완료\n"
     ]
    }
   ],
   "source": [
    "data = soup.find(\"div\", {\"class\":\"card_area\"})\n",
    "movies = data.find_all(\"div\", {\"class\":\"card_item\"})\n",
    "\n",
    "ff = open('file/movie.csv', \"w\", encoding=\"utf-8-sig\", newline=\"\")\n",
    "writer = csv.writer(ff)\n",
    "title = ['제목', '개봉일', '평점']\n",
    "writer.writerow(title)\n",
    "\n",
    "for movie in movies:\n",
    "    title = movie.find(\"a\", {\"class\":\"this_text _text\"}).get_text().strip()\n",
    "    openDate = movie.find(\"dl\", {\"class\":\"info_group type_visible\"}).find(\"dd\").get_text().strip()[:-1]\n",
    "    star = movie.find(\"span\", {\"class\":\"num\"}).get_text().strip()\n",
    "    \n",
    "    print(title)\n",
    "    print(openDate)\n",
    "    print(star)\n",
    "    writer.writerow([title, openDate, star])\n",
    "ff.close()\n",
    "print(\"저장완료\")"
   ]
  },
  {
   "cell_type": "code",
   "execution_count": 70,
   "id": "9af25413",
   "metadata": {},
   "outputs": [
    {
     "data": {
      "text/plain": [
       "제목\n",
       "검은 수녀들        6.44\n",
       "히트맨2          7.44\n",
       "말할 수 없는 비밀    8.62\n",
       "마당을 나온 암탉     8.67\n",
       "색, 계          8.98\n",
       "Name: 평점, dtype: float64"
      ]
     },
     "execution_count": 70,
     "metadata": {},
     "output_type": "execute_result"
    }
   ],
   "source": [
    "import pandas as pd\n",
    "\n",
    "df = pd.read_csv('file/movie.csv', index_col=\"제목\")\n",
    "df['평점'].describe()\n",
    "df['평점'].mean()\n",
    "df['평점'].sum()\n",
    "df['평점'].min()\n",
    "df['평점'].max()\n",
    "df['평점'].nlargest()\n",
    "df['평점'].nsmallest()"
   ]
  }
 ],
 "metadata": {
  "kernelspec": {
   "display_name": "Python 3",
   "language": "python",
   "name": "python3"
  },
  "language_info": {
   "codemirror_mode": {
    "name": "ipython",
    "version": 3
   },
   "file_extension": ".py",
   "mimetype": "text/x-python",
   "name": "python",
   "nbconvert_exporter": "python",
   "pygments_lexer": "ipython3",
   "version": "3.13.2"
  }
 },
 "nbformat": 4,
 "nbformat_minor": 5
}
