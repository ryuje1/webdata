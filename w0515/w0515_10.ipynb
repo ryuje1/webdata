{
 "cells": [
  {
   "cell_type": "markdown",
   "id": "21aa6e5e",
   "metadata": {},
   "source": [
    "여기어때 (https://www.yeogi.com/) <br>\n",
    "오사카 입력 <br>\n",
    "날짜 : 다음달 > 다음달 > 9/24, 9/27 <br>\n",
    "검색 <br>\n",
    "금액 200,000 이하 / 평점 9.0 이상 / 평가수 5000명 이상 <br>\n",
    "출력하시오"
   ]
  },
  {
   "cell_type": "markdown",
   "id": "ee3662b0",
   "metadata": {},
   "source": [
    "설정"
   ]
  },
  {
   "cell_type": "code",
   "execution_count": 122,
   "id": "cb692d24",
   "metadata": {},
   "outputs": [],
   "source": [
    "import requests\n",
    "from bs4 import BeautifulSoup\n",
    "from selenium import webdriver\n",
    "from selenium.webdriver.common.keys import Keys\n",
    "from selenium.webdriver.common.by import By\n",
    "from selenium.webdriver.chrome.service import Service\n",
    "from selenium.webdriver.chrome.options import Options\n",
    "from selenium.webdriver.support.ui import WebDriverWait\n",
    "from selenium.webdriver.support import expected_conditions as EC\n",
    "import csv\n",
    "import time\n",
    "import random\n",
    "from datetime import datetime\n",
    "\n",
    "# 크롬 옵션 설정 - 셀레니움 접근 제한 : 보안접근 해제\n",
    "options = Options()\n",
    "options.add_argument(\"--disable-blink-features=AutomationControlled\")  # 자동화 티 안 나게\n",
    "options.add_argument(\"start-maximized\")\n",
    "options.add_argument(\"user-agent=Mozilla/5.0 (Windows NT 10.0; Win64; x64) AppleWebKit/537.36 (KHTML, like Gecko) Chrome/123.0.0.0 Safari/537.36\")\n",
    "options.add_experimental_option(\"excludeSwitches\", [\"enable-automation\"])\n",
    "options.add_experimental_option('useAutomationExtension', False)\n",
    "\n",
    "# 브라우저 실행\n",
    "browser = webdriver.Chrome(options=options)     # 설정했던 옵션들을 가지고 크롬 브라우저 실행\n",
    "browser.maximize_window()                       # 창 최대화"
   ]
  },
  {
   "cell_type": "code",
   "execution_count": 123,
   "id": "199297f9",
   "metadata": {},
   "outputs": [],
   "source": [
    "url = 'https://www.yeogi.com/'\n",
    "browser.get(url)\n",
    "time.sleep(7)"
   ]
  },
  {
   "cell_type": "code",
   "execution_count": 124,
   "id": "cf755349",
   "metadata": {},
   "outputs": [],
   "source": [
    "elem = browser.find_element(By.XPATH, '//*[@id=\"__next\"]/main/section[1]/div/div/div[2]/form/div[1]/div[1]/div/label/div/div[2]/input')\n",
    "elem.send_keys(\"오사카\")\n",
    "time.sleep(1)\n",
    "elem = browser.find_element(By.XPATH, '//*[@id=\"__next\"]/main/section[1]/div/div/div[2]/form/div[1]/div[2]/ul/li').click()"
   ]
  },
  {
   "cell_type": "code",
   "execution_count": 125,
   "id": "05f27527",
   "metadata": {},
   "outputs": [],
   "source": [
    "elem = browser.find_element(By.XPATH, '//*[@id=\"__next\"]/main/section[1]/div/div/div[2]/form/div[2]/div[2]/div/div[1]/div[1]/button[2]').click()\n",
    "time.sleep(1)\n",
    "elem = browser.find_element(By.XPATH, '//*[@id=\"__next\"]/main/section[1]/div/div/div[2]/form/div[2]/div[2]/div/div[1]/div[1]/button[2]').click()\n",
    "time.sleep(1)"
   ]
  },
  {
   "cell_type": "code",
   "execution_count": 126,
   "id": "23e81911",
   "metadata": {},
   "outputs": [],
   "source": [
    "elem = browser.find_element(By.XPATH, '//*[@id=\"__next\"]/main/section[1]/div/div/div[2]/form/div[2]/div[2]/div/div[1]/div[2]/div[2]/div/div/ul[2]/li[25]/button').click()\n",
    "time.sleep(1)\n",
    "elem = browser.find_element(By.XPATH, '//*[@id=\"__next\"]/main/section[1]/div/div/div[2]/form/div[2]/div[2]/div/div[1]/div[2]/div[2]/div/div/ul[2]/li[28]/button').click()\n",
    "time.sleep(1)"
   ]
  },
  {
   "cell_type": "code",
   "execution_count": 127,
   "id": "4856d338",
   "metadata": {},
   "outputs": [],
   "source": [
    "elem = browser.find_element(By.XPATH, '//*[@id=\"__next\"]/main/section[1]/div/div/div[2]/form/div[4]/button').click()\n",
    "time.sleep(3)"
   ]
  },
  {
   "cell_type": "code",
   "execution_count": null,
   "id": "56c177ce",
   "metadata": {},
   "outputs": [
    {
     "name": "stdout",
     "output_type": "stream",
     "text": [
      "스크롤 완료\n"
     ]
    },
    {
     "ename": "FileNotFoundError",
     "evalue": "[Errno 2] No such file or directory: 'w0514/hotel.csv'",
     "output_type": "error",
     "traceback": [
      "\u001b[31m---------------------------------------------------------------------------\u001b[39m",
      "\u001b[31mFileNotFoundError\u001b[39m                         Traceback (most recent call last)",
      "\u001b[36mCell\u001b[39m\u001b[36m \u001b[39m\u001b[32mIn[128]\u001b[39m\u001b[32m, line 15\u001b[39m\n\u001b[32m     12\u001b[39m data = soup.find(\u001b[33m\"\u001b[39m\u001b[33mdiv\u001b[39m\u001b[33m\"\u001b[39m, {\u001b[33m\"\u001b[39m\u001b[33mclass\u001b[39m\u001b[33m\"\u001b[39m:\u001b[33m\"\u001b[39m\u001b[33mcss-1poun1e\u001b[39m\u001b[33m\"\u001b[39m})\n\u001b[32m     13\u001b[39m \u001b[38;5;28mlist\u001b[39m = data.find_all(\u001b[33m\"\u001b[39m\u001b[33mdiv\u001b[39m\u001b[33m\"\u001b[39m, {\u001b[33m\"\u001b[39m\u001b[33mclass\u001b[39m\u001b[33m\"\u001b[39m:\u001b[33m\"\u001b[39m\u001b[33mcss-gvoll6\u001b[39m\u001b[33m\"\u001b[39m})\n\u001b[32m---> \u001b[39m\u001b[32m15\u001b[39m ff = \u001b[38;5;28;43mopen\u001b[39;49m\u001b[43m(\u001b[49m\u001b[33;43m\"\u001b[39;49m\u001b[33;43mw0514/hotel.csv\u001b[39;49m\u001b[33;43m\"\u001b[39;49m\u001b[43m,\u001b[49m\u001b[43m \u001b[49m\u001b[33;43m\"\u001b[39;49m\u001b[33;43mw\u001b[39;49m\u001b[33;43m\"\u001b[39;49m\u001b[43m,\u001b[49m\u001b[43m \u001b[49m\u001b[43mencoding\u001b[49m\u001b[43m=\u001b[49m\u001b[33;43m\"\u001b[39;49m\u001b[33;43mutf-8-sig\u001b[39;49m\u001b[33;43m\"\u001b[39;49m\u001b[43m,\u001b[49m\u001b[43m \u001b[49m\u001b[43mnewline\u001b[49m\u001b[43m=\u001b[49m\u001b[33;43m\"\u001b[39;49m\u001b[33;43m\"\u001b[39;49m\u001b[43m)\u001b[49m\n\u001b[32m     16\u001b[39m writer = csv.writer(ff)\n\u001b[32m     18\u001b[39m \u001b[38;5;28;01mfor\u001b[39;00m i, l \u001b[38;5;129;01min\u001b[39;00m \u001b[38;5;28menumerate\u001b[39m(\u001b[38;5;28mlist\u001b[39m):\n",
      "\u001b[36mFile \u001b[39m\u001b[32m~\\AppData\\Roaming\\Python\\Python313\\site-packages\\IPython\\core\\interactiveshell.py:326\u001b[39m, in \u001b[36m_modified_open\u001b[39m\u001b[34m(file, *args, **kwargs)\u001b[39m\n\u001b[32m    319\u001b[39m \u001b[38;5;28;01mif\u001b[39;00m file \u001b[38;5;129;01min\u001b[39;00m {\u001b[32m0\u001b[39m, \u001b[32m1\u001b[39m, \u001b[32m2\u001b[39m}:\n\u001b[32m    320\u001b[39m     \u001b[38;5;28;01mraise\u001b[39;00m \u001b[38;5;167;01mValueError\u001b[39;00m(\n\u001b[32m    321\u001b[39m         \u001b[33mf\u001b[39m\u001b[33m\"\u001b[39m\u001b[33mIPython won\u001b[39m\u001b[33m'\u001b[39m\u001b[33mt let you open fd=\u001b[39m\u001b[38;5;132;01m{\u001b[39;00mfile\u001b[38;5;132;01m}\u001b[39;00m\u001b[33m by default \u001b[39m\u001b[33m\"\u001b[39m\n\u001b[32m    322\u001b[39m         \u001b[33m\"\u001b[39m\u001b[33mas it is likely to crash IPython. If you know what you are doing, \u001b[39m\u001b[33m\"\u001b[39m\n\u001b[32m    323\u001b[39m         \u001b[33m\"\u001b[39m\u001b[33myou can use builtins\u001b[39m\u001b[33m'\u001b[39m\u001b[33m open.\u001b[39m\u001b[33m\"\u001b[39m\n\u001b[32m    324\u001b[39m     )\n\u001b[32m--> \u001b[39m\u001b[32m326\u001b[39m \u001b[38;5;28;01mreturn\u001b[39;00m \u001b[43mio_open\u001b[49m\u001b[43m(\u001b[49m\u001b[43mfile\u001b[49m\u001b[43m,\u001b[49m\u001b[43m \u001b[49m\u001b[43m*\u001b[49m\u001b[43margs\u001b[49m\u001b[43m,\u001b[49m\u001b[43m \u001b[49m\u001b[43m*\u001b[49m\u001b[43m*\u001b[49m\u001b[43mkwargs\u001b[49m\u001b[43m)\u001b[49m\n",
      "\u001b[31mFileNotFoundError\u001b[39m: [Errno 2] No such file or directory: 'w0514/hotel.csv'"
     ]
    }
   ],
   "source": [
    "\n",
    "# 스크롤\n",
    "pre_height = browser.execute_script(\"return document.body.scrollHeight\")\n",
    "\n",
    "while True:\n",
    "    browser.execute_script(\"window.scrollTo(0, document.body.scrollHeight)\")\n",
    "    curr_height = browser.execute_script(\"return document.body.scrollHeight\")\n",
    "    if curr_height == pre_height: break\n",
    "    pre_height = curr_height\n",
    "print(\"스크롤 완료\")\n",
    "\n",
    "soup = BeautifulSoup(browser.page_source, 'lxml')\n",
    "data = soup.find(\"div\", {\"class\":\"css-1poun1e\"})\n",
    "list = data.find_all(\"div\", {\"class\":\"css-gvoll6\"})\n",
    "\n",
    "ff = open(\"w0514/hotel.csv\", \"w\", encoding=\"utf-8-sig\", newline=\"\")\n",
    "writer = csv.writer(ff)\n",
    "title = ['호텔명', '평점', '평가수', '금액', '이미지링크']\n",
    "writer.writerow(title)\n",
    "\n",
    "for i, l in enumerate(list):\n",
    "    s_list = []\n",
    "    num = i+1\n",
    "    name = l.find(\"h3\", {\"class\":\"gc-thumbnail-type-seller-card-title css-1gxx2ac\"}).get_text().strip()\n",
    "    s_list.append(name)\n",
    "    \n",
    "    rank = l.find(\"span\", {\"class\":\"css-9ml4lz\"}).get_text().strip()\n",
    "    rank = float(rank)\n",
    "    s_list.append(rank)\n",
    "    \n",
    "    rating = l.find(\"span\", {\"class\":\"css-oj6onp\"}).get_text().strip().replace(\",\", \"\")[:-4]\n",
    "    rating = int(rating)\n",
    "    s_list.append(rating)\n",
    "    \n",
    "    price = l.find(\"span\", {\"class\":\"css-5r5920\"}).get_text().strip().replace(\",\", \"\")\n",
    "    price = int(price)\n",
    "    s_list.append(rating)\n",
    "    \n",
    "    imgUrl = l.img[\"src\"]\n",
    "    img_res = requests.get(imgUrl)\n",
    "    with open(f\"w0515/hotelImg/hotel{num}.jpg\", \"wb\") as f:\n",
    "        f.write(img_res.content)\n",
    "    \n",
    "    # 금액 200,000 이하 / 평점 9.0 이상 / 평가수 5000명 이상\n",
    "    if (price >= 220000) or (rank <= 8.0) or (rating <= 5000): continue\n",
    "    \n",
    "    print(name)\n",
    "    print(rank, end=\"\\t\")\n",
    "    print(rating)\n",
    "    print(price)\n",
    "    print(\"-\"*50)\n",
    "    \n",
    "    writer.writerow(s_list)\n",
    "print(\"출력 완료\")"
   ]
  },
  {
   "cell_type": "code",
   "execution_count": null,
   "id": "8b4d01b2",
   "metadata": {},
   "outputs": [
    {
     "name": "stdout",
     "output_type": "stream",
     "text": [
      "데이터 출력대상입니다.\n"
     ]
    }
   ],
   "source": [
    "# import datetime\n",
    "from datetime import datetime\n",
    "\n",
    "# 기준시간\n",
    "standard_time = datetime(2025,5,31,17,00,00)\n",
    "standard_time\n",
    "\n",
    "# 검색된 시간 - \"06:15\"\n",
    "times = \"06:15\"\n",
    "d_time = times.split(\":\")\n",
    "search_time = datetime(2025,5,31,int(d_time[0]),int(d_time[1]),00)\n",
    "\n",
    "if (standard_time<search_time): # 기준시간보다 검색된 시간이 더 크면 제외\n",
    "    print(\"제외 대상입니다.\")\n",
    "else:\n",
    "    print(\"데이터 출력대상입니다.\")"
   ]
  }
 ],
 "metadata": {
  "kernelspec": {
   "display_name": "Python 3",
   "language": "python",
   "name": "python3"
  },
  "language_info": {
   "codemirror_mode": {
    "name": "ipython",
    "version": 3
   },
   "file_extension": ".py",
   "mimetype": "text/x-python",
   "name": "python",
   "nbconvert_exporter": "python",
   "pygments_lexer": "ipython3",
   "version": "3.13.2"
  }
 },
 "nbformat": 4,
 "nbformat_minor": 5
}
