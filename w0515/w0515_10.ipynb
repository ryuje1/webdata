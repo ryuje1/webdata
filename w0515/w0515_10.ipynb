{
 "cells": [
  {
   "cell_type": "markdown",
   "id": "21aa6e5e",
   "metadata": {},
   "source": [
    "여기어때 (https://www.yeogi.com/) <br>\n",
    "오사카 입력 <br>\n",
    "날짜 : 다음달 > 다음달 > 9/24, 9/27 <br>\n",
    "검색 <br>\n",
    "금액 200,000 이하 / 평점 9.0 이상 / 평가수 5000명 이상 <br>\n",
    "출력하시오"
   ]
  },
  {
   "cell_type": "markdown",
   "id": "ee3662b0",
   "metadata": {},
   "source": [
    "설정"
   ]
  },
  {
   "cell_type": "code",
   "execution_count": 28,
   "id": "cb692d24",
   "metadata": {},
   "outputs": [],
   "source": [
    "import requests\n",
    "from bs4 import BeautifulSoup\n",
    "from selenium import webdriver\n",
    "from selenium.webdriver.common.keys import Keys\n",
    "from selenium.webdriver.common.by import By\n",
    "from selenium.webdriver.chrome.service import Service\n",
    "from selenium.webdriver.chrome.options import Options\n",
    "from selenium.webdriver.support.ui import WebDriverWait\n",
    "from selenium.webdriver.support import expected_conditions as EC\n",
    "import csv\n",
    "import time\n",
    "import random\n",
    "from datetime import datetime\n",
    "\n",
    "# 크롬 옵션 설정 - 셀레니움 접근 제한 : 보안접근 해제\n",
    "options = Options()\n",
    "options.add_argument(\"--disable-blink-features=AutomationControlled\")  # 자동화 티 안 나게\n",
    "options.add_argument(\"start-maximized\")\n",
    "options.add_argument(\"user-agent=Mozilla/5.0 (Windows NT 10.0; Win64; x64) AppleWebKit/537.36 (KHTML, like Gecko) Chrome/123.0.0.0 Safari/537.36\")\n",
    "options.add_experimental_option(\"excludeSwitches\", [\"enable-automation\"])\n",
    "options.add_experimental_option('useAutomationExtension', False)\n",
    "\n",
    "# 브라우저 실행\n",
    "browser = webdriver.Chrome(options=options)     # 설정했던 옵션들을 가지고 크롬 브라우저 실행\n",
    "browser.maximize_window()                       # 창 최대화"
   ]
  },
  {
   "cell_type": "code",
   "execution_count": 29,
   "id": "199297f9",
   "metadata": {},
   "outputs": [],
   "source": [
    "url = 'https://www.yeogi.com/'\n",
    "browser.get(url)\n",
    "time.sleep(7)"
   ]
  },
  {
   "cell_type": "code",
   "execution_count": 30,
   "id": "cf755349",
   "metadata": {},
   "outputs": [],
   "source": [
    "elem = browser.find_element(By.XPATH, '//*[@id=\"__next\"]/main/section[1]/div/div/div[2]/form/div[1]/div[1]/div/label/div/div[2]/input')\n",
    "elem.send_keys(\"오사카\")\n",
    "time.sleep(1)\n",
    "elem = browser.find_element(By.XPATH, '//*[@id=\"__next\"]/main/section[1]/div/div/div[2]/form/div[1]/div[2]/ul/li').click()"
   ]
  },
  {
   "cell_type": "code",
   "execution_count": 31,
   "id": "05f27527",
   "metadata": {},
   "outputs": [],
   "source": [
    "elem = browser.find_element(By.XPATH, '//*[@id=\"__next\"]/main/section[1]/div/div/div[2]/form/div[2]/div[2]/div/div[1]/div[1]/button[2]').click()\n",
    "time.sleep(1)\n",
    "elem = browser.find_element(By.XPATH, '//*[@id=\"__next\"]/main/section[1]/div/div/div[2]/form/div[2]/div[2]/div/div[1]/div[1]/button[2]').click()\n",
    "time.sleep(1)"
   ]
  },
  {
   "cell_type": "code",
   "execution_count": 32,
   "id": "23e81911",
   "metadata": {},
   "outputs": [],
   "source": [
    "elem = browser.find_element(By.XPATH, '//*[@id=\"__next\"]/main/section[1]/div/div/div[2]/form/div[2]/div[2]/div/div[1]/div[2]/div[2]/div/div/ul[2]/li[25]/button').click()\n",
    "time.sleep(1)\n",
    "elem = browser.find_element(By.XPATH, '//*[@id=\"__next\"]/main/section[1]/div/div/div[2]/form/div[2]/div[2]/div/div[1]/div[2]/div[2]/div/div/ul[2]/li[28]/button').click()\n",
    "time.sleep(1)"
   ]
  },
  {
   "cell_type": "code",
   "execution_count": 33,
   "id": "4856d338",
   "metadata": {},
   "outputs": [],
   "source": [
    "elem = browser.find_element(By.XPATH, '//*[@id=\"__next\"]/main/section[1]/div/div/div[2]/form/div[4]/button').click()\n",
    "time.sleep(3)"
   ]
  },
  {
   "cell_type": "code",
   "execution_count": 34,
   "id": "56c177ce",
   "metadata": {},
   "outputs": [
    {
     "name": "stderr",
     "output_type": "stream",
     "text": [
      "<>:16: SyntaxWarning: invalid escape sequence '\\w'\n",
      "<>:16: SyntaxWarning: invalid escape sequence '\\w'\n",
      "C:\\Users\\KOSMO\\AppData\\Local\\Temp\\ipykernel_16788\\718129126.py:16: SyntaxWarning: invalid escape sequence '\\w'\n",
      "  ff = open(\"C:\\workspace\\webdata\\w0515/hotel.csv\", \"a\", encoding=\"utf-8-sig\", newline=\"\")\n"
     ]
    }
   ],
   "source": [
    "def search_data():\n",
    "    # 스크롤\n",
    "    pre_height = browser.execute_script(\"return document.body.scrollHeight\")\n",
    "\n",
    "    while True:\n",
    "        browser.execute_script(\"window.scrollTo(0, document.body.scrollHeight)\")\n",
    "        curr_height = browser.execute_script(\"return document.body.scrollHeight\")\n",
    "        if curr_height == pre_height: break\n",
    "        pre_height = curr_height\n",
    "    print(\"스크롤 완료\")\n",
    "\n",
    "    soup = BeautifulSoup(browser.page_source, 'lxml')\n",
    "    data = soup.find(\"div\", {\"class\":\"css-1poun1e\"})\n",
    "    list = data.find_all(\"div\", {\"class\":\"css-gvoll6\"})\n",
    "    \n",
    "    ff = open(\"C:\\workspace\\webdata\\w0515/hotel.csv\", \"a\", encoding=\"utf-8-sig\", newline=\"\")\n",
    "    writer = csv.writer(ff)\n",
    "    # title = ['호텔명', '평점', '평가수', '금액']\n",
    "    # writer.writerow(title)\n",
    "\n",
    "    for i, l in enumerate(list):\n",
    "        s_list = []\n",
    "        num = i+1\n",
    "        name = l.find(\"h3\", {\"class\":\"gc-thumbnail-type-seller-card-title css-1gxx2ac\"}).get_text().strip()\n",
    "        s_list.append(name)\n",
    "        \n",
    "        rank = l.find(\"span\", {\"class\":\"css-9ml4lz\"}).get_text().strip()\n",
    "        rank = float(rank)\n",
    "        s_list.append(rank)\n",
    "        \n",
    "        rating = l.find(\"span\", {\"class\":\"css-oj6onp\"}).get_text().strip().replace(\",\", \"\")[:-4]\n",
    "        rating = int(rating)\n",
    "        s_list.append(rating)\n",
    "        \n",
    "        price = l.find(\"span\", {\"class\":\"css-5r5920\"}).get_text().strip().replace(\",\", \"\")\n",
    "        price = int(price)\n",
    "        s_list.append(rating)\n",
    "        \n",
    "        # print(l.img[\"src\"])\n",
    "        # imgUrl = l.img[\"src\"]\n",
    "        # img_res = requests.get(imgUrl)\n",
    "        # with open(f\"C:\\workspace\\webdata\\w0515/hotelImg/hotel{num}.jpg\", \"wb\") as f:\n",
    "        #     f.write(img_res.content)\n",
    "        \n",
    "        # 금액 200,000 이하 / 평점 9.0 이상 / 평가수 5000명 이상\n",
    "        if (price >= 220000) or (rank <= 8.0) or (rating <= 5000): continue\n",
    "        \n",
    "        print(name)\n",
    "        print(rank, end=\"\\t\")\n",
    "        print(rating)\n",
    "        print(price)\n",
    "        print(\"-\"*50)\n",
    "        \n",
    "        writer.writerow(s_list)\n",
    "    ff.close()\n",
    "    print(\"출력 완료\")"
   ]
  },
  {
   "cell_type": "code",
   "execution_count": 35,
   "id": "9f163796",
   "metadata": {},
   "outputs": [
    {
     "name": "stdout",
     "output_type": "stream",
     "text": [
      "스크롤 완료\n",
      "하튼 호텔 신사이바시 나가호리도리\n",
      "8.9\t12367\n",
      "132108\n",
      "--------------------------------------------------\n",
      "호텔 오리엔탈 익스프레스 오사카 신사이바시\n",
      "8.9\t5536\n",
      "186505\n",
      "--------------------------------------------------\n",
      "그리드스 프리미엄 호텔 오사카 남바\n",
      "8.8\t7197\n",
      "162515\n",
      "--------------------------------------------------\n",
      "베셀 인 신사이바시\n",
      "8.9\t6031\n",
      "165135\n",
      "--------------------------------------------------\n",
      "퀸테사 호텔 오사카 신사이바시 코믹 & 북스\n",
      "8.4\t7220\n",
      "166106\n",
      "--------------------------------------------------\n",
      "출력 완료\n"
     ]
    }
   ],
   "source": [
    "search_data()\n",
    "\n",
    "elem = browser.find_element(By.XPATH, '//*[@id=\"__next\"]/div/main/section/div[2]/div[2]/div/div/button[2]').click()\n",
    "time.sleep(2)"
   ]
  },
  {
   "cell_type": "code",
   "execution_count": 36,
   "id": "8eaf94ae",
   "metadata": {},
   "outputs": [
    {
     "name": "stdout",
     "output_type": "stream",
     "text": [
      "스크롤 완료\n",
      "소테츠 그랜드 프레사 오사카 난바\n",
      "8.7\t24033\n",
      "141458\n",
      "--------------------------------------------------\n",
      "오사카 후지야 호텔\n",
      "8.2\t6120\n",
      "118794\n",
      "--------------------------------------------------\n",
      "호텔 케이한 난바 그란데\n",
      "8.9\t8143\n",
      "156904\n",
      "--------------------------------------------------\n",
      "하톤 호텔 신사이바시\n",
      "8.5\t12278\n",
      "155633\n",
      "--------------------------------------------------\n",
      "출력 완료\n"
     ]
    }
   ],
   "source": [
    "search_data()"
   ]
  },
  {
   "cell_type": "code",
   "execution_count": 37,
   "id": "8b4d01b2",
   "metadata": {},
   "outputs": [
    {
     "name": "stdout",
     "output_type": "stream",
     "text": [
      "데이터 출력대상입니다.\n"
     ]
    }
   ],
   "source": [
    "# import datetime\n",
    "from datetime import datetime\n",
    "\n",
    "# 기준시간\n",
    "standard_time = datetime(2025,5,31,17,00,00)\n",
    "standard_time\n",
    "\n",
    "# 검색된 시간 - \"06:15\"\n",
    "times = \"06:15\"\n",
    "d_time = times.split(\":\")\n",
    "search_time = datetime(2025,5,31,int(d_time[0]),int(d_time[1]),00)\n",
    "\n",
    "if (standard_time<search_time): # 기준시간보다 검색된 시간이 더 크면 제외\n",
    "    print(\"제외 대상입니다.\")\n",
    "else:\n",
    "    print(\"데이터 출력대상입니다.\")"
   ]
  }
 ],
 "metadata": {
  "kernelspec": {
   "display_name": "Python 3",
   "language": "python",
   "name": "python3"
  },
  "language_info": {
   "codemirror_mode": {
    "name": "ipython",
    "version": 3
   },
   "file_extension": ".py",
   "mimetype": "text/x-python",
   "name": "python",
   "nbconvert_exporter": "python",
   "pygments_lexer": "ipython3",
   "version": "3.13.2"
  }
 },
 "nbformat": 4,
 "nbformat_minor": 5
}
