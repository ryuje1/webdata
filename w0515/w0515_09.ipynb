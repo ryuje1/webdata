{
 "cells": [
  {
   "cell_type": "markdown",
   "id": "98e0d1d3",
   "metadata": {},
   "source": [
    "# 네이버 항공권"
   ]
  },
  {
   "cell_type": "markdown",
   "id": "e4e28e24",
   "metadata": {},
   "source": [
    "* 김포, 제주 5/31 - 6/1\n",
    "* 출발 비행기표 금액 90,000 이하 제외\n",
    "* 김포 출발시간 17:00 이후 제외"
   ]
  },
  {
   "cell_type": "markdown",
   "id": "975cf404",
   "metadata": {},
   "source": [
    "설정부분"
   ]
  },
  {
   "cell_type": "code",
   "execution_count": 9,
   "id": "d55bd86d",
   "metadata": {},
   "outputs": [],
   "source": [
    "import requests\n",
    "from bs4 import BeautifulSoup\n",
    "from selenium import webdriver\n",
    "from selenium.webdriver.common.keys import Keys\n",
    "from selenium.webdriver.common.by import By\n",
    "from selenium.webdriver.chrome.service import Service\n",
    "from selenium.webdriver.chrome.options import Options\n",
    "from selenium.webdriver.support.ui import WebDriverWait\n",
    "from selenium.webdriver.support import expected_conditions as EC\n",
    "import csv\n",
    "import time\n",
    "import random\n",
    "from datetime import datetime\n",
    "\n",
    "# 크롬 옵션 설정 - 셀레니움 접근 제한 : 보안접근 해제\n",
    "options = Options()\n",
    "options.add_argument(\"--disable-blink-features=AutomationControlled\")  # 자동화 티 안 나게\n",
    "options.add_argument(\"start-maximized\")\n",
    "options.add_argument(\"user-agent=Mozilla/5.0 (Windows NT 10.0; Win64; x64) AppleWebKit/537.36 (KHTML, like Gecko) Chrome/123.0.0.0 Safari/537.36\")\n",
    "options.add_experimental_option(\"excludeSwitches\", [\"enable-automation\"])\n",
    "options.add_experimental_option('useAutomationExtension', False)"
   ]
  },
  {
   "cell_type": "code",
   "execution_count": 10,
   "id": "7be044c9",
   "metadata": {},
   "outputs": [],
   "source": [
    "# 브라우저 실행\n",
    "browser = webdriver.Chrome(options=options)     # 설정했던 옵션들을 가지고 크롬 브라우저 실행\n",
    "browser.maximize_window()         "
   ]
  },
  {
   "cell_type": "code",
   "execution_count": 11,
   "id": "092a741d",
   "metadata": {},
   "outputs": [],
   "source": [
    "url = \"https://flight.naver.com/\"\n",
    "browser.get(url)\n",
    "time.sleep(2)"
   ]
  },
  {
   "cell_type": "code",
   "execution_count": 12,
   "id": "b9f97b5f",
   "metadata": {},
   "outputs": [],
   "source": [
    "elem = browser.find_element(By.XPATH, '//*[@id=\"layer\"]/button[2]')"
   ]
  },
  {
   "cell_type": "code",
   "execution_count": 13,
   "id": "083a8c7b",
   "metadata": {},
   "outputs": [],
   "source": [
    "# 팝업창 닫기\n",
    "elem.click()"
   ]
  },
  {
   "cell_type": "code",
   "execution_count": 14,
   "id": "5227d1ed",
   "metadata": {},
   "outputs": [],
   "source": [
    "elem = browser.find_element(By.XPATH, '//*[@id=\"__next\"]/div/main/div[2]/div/div/div[2]/div[1]/button[1]').click()"
   ]
  },
  {
   "cell_type": "code",
   "execution_count": 15,
   "id": "9c3cb58e",
   "metadata": {},
   "outputs": [],
   "source": [
    "elem = browser.find_element(By.XPATH, '//*[@id=\"__next\"]/div/main/div[8]/div[2]/div/div/ul[1]/li[3]/button').click()"
   ]
  },
  {
   "cell_type": "code",
   "execution_count": 16,
   "id": "86034109",
   "metadata": {},
   "outputs": [],
   "source": [
    "elem = browser.find_element(By.XPATH, '//*[@id=\"__next\"]/div/main/div[2]/div/div/div[2]/div[1]/button[2]').click()"
   ]
  },
  {
   "cell_type": "code",
   "execution_count": 17,
   "id": "b5341e00",
   "metadata": {},
   "outputs": [],
   "source": [
    "elem = browser.find_element(By.XPATH, '//*[@id=\"__next\"]/div/main/div[8]/div[2]/div[2]/div[2]/ul[1]/li[1]/button').click()"
   ]
  },
  {
   "cell_type": "code",
   "execution_count": 18,
   "id": "1505fc83",
   "metadata": {},
   "outputs": [],
   "source": [
    "# 가는날 5/31 선택\n",
    "elem = browser.find_element(By.XPATH, '//*[@id=\"__next\"]/div/main/div[2]/div/div/div[2]/div[2]/button[1]').click()\n",
    "time.sleep(1)\n",
    "elem = browser.find_element(By.XPATH, '//*[@id=\"__next\"]/div/main/div[8]/div[2]/div[1]/div[2]/div/div/div[2]/table/tbody/tr[5]/td[7]/button').click()\n",
    "time.sleep(1)\n",
    "\n",
    "# 오는날 6/4 선택\n",
    "elem = browser.find_element(By.XPATH, '//*[@id=\"__next\"]/div/main/div[8]/div[2]/div[1]/div[2]/div/div/div[3]/table/tbody/tr[1]/td[4]/button').click()\n",
    "time.sleep(1)"
   ]
  },
  {
   "cell_type": "code",
   "execution_count": 19,
   "id": "88e07f6f",
   "metadata": {},
   "outputs": [],
   "source": [
    "# 검색하기 선택\n",
    "elem = browser.find_element(By.XPATH, '//*[@id=\"__next\"]/div/main/div[2]/div/div/div[2]/button').click()\n",
    "time.sleep(5)"
   ]
  },
  {
   "cell_type": "code",
   "execution_count": 20,
   "id": "c957b483",
   "metadata": {},
   "outputs": [],
   "source": [
    "pre_height = browser.execute_script(\"return document.body.scrollHeight\")\n",
    "while True:\n",
    "    browser.execute_script(\"window.scrollTo(0, document.body.scrollHeight)\")\n",
    "    time.sleep(2)\n",
    "    curr_height = browser.execute_script(\"return document.body.scrollHeight\")\n",
    "    if curr_height == pre_height: break\n",
    "    pre_height = curr_height"
   ]
  },
  {
   "cell_type": "code",
   "execution_count": 21,
   "id": "1fffe7aa",
   "metadata": {},
   "outputs": [],
   "source": [
    "soup = BeautifulSoup(browser.page_source, 'lxml')\n",
    "data = soup.find(\"div\", {\"class\":\"domestic_results__gp5WB\"})\n",
    "list = data.find_all(\"div\", {\"class\":\"domestic_Flight__8bR_b\"})"
   ]
  },
  {
   "cell_type": "code",
   "execution_count": 31,
   "id": "cae541dd",
   "metadata": {},
   "outputs": [
    {
     "name": "stdout",
     "output_type": "stream",
     "text": [
      "1\t이스타항공\t06:05\t07:20\t107400\n",
      "--------------------------------------------------\n",
      "3\t이스타항공\t06:10\t07:25\t107400\n",
      "--------------------------------------------------\n",
      "7\t진에어\t06:15\t07:30\t101600\n",
      "--------------------------------------------------\n",
      "8\t제주항공\t06:15\t07:30\t103600\n",
      "--------------------------------------------------\n",
      "11\t제주항공\t06:20\t07:35\t103600\n",
      "--------------------------------------------------\n",
      "13\t티웨이항공\t06:25\t07:40\t102700\n",
      "--------------------------------------------------\n",
      "15\t진에어\t06:35\t07:50\t101600\n",
      "--------------------------------------------------\n",
      "20\t제주항공\t06:50\t08:10\t103600\n",
      "--------------------------------------------------\n",
      "33\t제주항공\t13:25\t14:40\t103600\n",
      "--------------------------------------------------\n",
      "35\t이스타항공\t13:40\t14:50\t107400\n",
      "--------------------------------------------------\n",
      "37\t티웨이항공\t13:45\t15:00\t102700\n",
      "--------------------------------------------------\n",
      "39\t티웨이항공\t14:00\t15:15\t102700\n",
      "--------------------------------------------------\n",
      "45\t티웨이항공\t14:15\t15:30\t96700\n",
      "--------------------------------------------------\n",
      "47\t이스타항공\t14:35\t15:45\t99300\n",
      "--------------------------------------------------\n",
      "48\t제주항공\t14:35\t15:50\t103600\n",
      "--------------------------------------------------\n",
      "54\t진에어\t14:45\t16:00\t95600\n",
      "--------------------------------------------------\n",
      "57\t아시아나항공\t14:50\t16:05\t107700\n",
      "--------------------------------------------------\n",
      "60\t아시아나항공\t15:00\t16:15\t107700\n",
      "--------------------------------------------------\n",
      "63\t제주항공\t15:10\t16:25\t95600\n",
      "--------------------------------------------------\n",
      "65\t티웨이항공\t15:15\t16:30\t102700\n",
      "--------------------------------------------------\n",
      "67\t진에어\t15:20\t16:35\t91700\n",
      "--------------------------------------------------\n",
      "68\t이스타항공\t15:35\t16:50\t91300\n",
      "--------------------------------------------------\n",
      "70\t제주항공\t15:40\t16:55\t95600\n",
      "--------------------------------------------------\n",
      "72\t이스타항공\t15:50\t17:05\t91300\n",
      "--------------------------------------------------\n",
      "74\t제주항공\t15:55\t17:10\t89600\n",
      "--------------------------------------------------\n"
     ]
    }
   ],
   "source": [
    "for i, l in enumerate(list):\n",
    "    num = i+1\n",
    "    title = l.find(\"b\", {\"class\":\"airline_name__0Tw5w\"}).get_text().strip()\n",
    "    f_time = l.find_all(\"b\", {\"class\":\"route_time__xWu7a\"})\n",
    "    startTime = f_time[0].get_text().strip()\n",
    "    sh = int((startTime.split(\":\"))[0])\n",
    "    sm = int((startTime.split(\":\"))[1])\n",
    "    standard_time = datetime(2025,5,31,17,00,00)\n",
    "    now_time = datetime(2025,5,31,sh,sm,00)\n",
    "    endTime = f_time[1].get_text().strip()\n",
    "    price = l.find(\"i\", {\"class\":\"domestic_num__ShOub\"}).get_text().strip().replace(\",\", \"\")\n",
    "    price = int(price)\n",
    "    \n",
    "    if price >= 110000 or standard_time<now_time: continue\n",
    "    print(num, end=\"\\t\")\n",
    "    print(title, end=\"\\t\")\n",
    "    print(startTime, end=\"\\t\")\n",
    "    print(endTime, end=\"\\t\")\n",
    "    print(price)\n",
    "    print(\"-\"*50)"
   ]
  }
 ],
 "metadata": {
  "kernelspec": {
   "display_name": "Python 3",
   "language": "python",
   "name": "python3"
  },
  "language_info": {
   "codemirror_mode": {
    "name": "ipython",
    "version": 3
   },
   "file_extension": ".py",
   "mimetype": "text/x-python",
   "name": "python",
   "nbconvert_exporter": "python",
   "pygments_lexer": "ipython3",
   "version": "3.13.2"
  }
 },
 "nbformat": 4,
 "nbformat_minor": 5
}
